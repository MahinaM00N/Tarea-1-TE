{
  "nbformat": 4,
  "nbformat_minor": 0,
  "metadata": {
    "colab": {
      "name": "Tarea 1 TE.ipynb",
      "private_outputs": true,
      "provenance": [],
      "authorship_tag": "ABX9TyPze3FwPxHlDALOo4pYqUCA",
      "include_colab_link": true
    },
    "kernelspec": {
      "name": "python3",
      "display_name": "Python 3"
    },
    "language_info": {
      "name": "python"
    }
  },
  "cells": [
    {
      "cell_type": "markdown",
      "metadata": {
        "id": "view-in-github",
        "colab_type": "text"
      },
      "source": [
        "<a href=\"https://colab.research.google.com/github/MahinaM00N/Tarea-1-TE/blob/main/Tarea_1_TE.ipynb\" target=\"_parent\"><img src=\"https://colab.research.google.com/assets/colab-badge.svg\" alt=\"Open In Colab\"/></a>"
      ]
    },
    {
      "cell_type": "code",
      "metadata": {
        "id": "_XIIAYPy1-HG"
      },
      "source": [
        "import numpy as np\n",
        "import matplotlib.pyplot as plt"
      ],
      "execution_count": null,
      "outputs": []
    },
    {
      "cell_type": "code",
      "metadata": {
        "id": "9oX1oYEzsg8W"
      },
      "source": [
        ">>> import pandas as pd\n",
        ">>> # Importación del fichero datos.csv\n",
        ">>> df = pd.read_csv(\n",
        "'datos.csv', sep=';', decimal=',')\n"
      ],
      "execution_count": null,
      "outputs": []
    },
    {
      "cell_type": "code",
      "metadata": {
        "id": "Bu4gDW66wwOn"
      },
      "source": [
        "df.shape"
      ],
      "execution_count": null,
      "outputs": []
    },
    {
      "cell_type": "code",
      "metadata": {
        "id": "flsA21gO2gWS"
      },
      "source": [
        "#print(x,y)\n",
        "x = np.linspace(5,100,7)\n",
        "\n",
        "\n",
        "y1 = df.iloc[2:9:1, 35] #nºde partículas para 50\n",
        "\n",
        "\n",
        "y2 = df.iloc[12:19:1, 35] #nºde partículas para 100\n",
        "\n",
        "\n",
        "y3 = df.iloc[22:29:1, 35] #nºde partículas para 150\n",
        "\n",
        "\n",
        "y4 = df.iloc[32:39:1, 35] #nºde partículas para 200\n",
        "\n",
        "print(x,y1,y2,y3,y4)\n",
        "\n",
        "fig = plt.figure()\n",
        "fig.add_axes()\n",
        "ax = fig.add_subplot(1,1,1)\n",
        "\n",
        "plt.scatter(x,y1, label='$50$', linestyle='--', color='turquoise', linewidth=2)\n",
        "plt.scatter(x, y2, label='$100$', linestyle='-', color='tan', linewidth=2)\n",
        "plt.scatter(x, y3, label='$150$', linestyle=':', color='cornflowerblue', linewidth=2.5)\n",
        "plt.scatter(x, y4, label='$200$', linestyle=':', color='pink', linewidth=2.5)\n",
        "\n",
        "ax.set_xlabel('$x$')\n",
        "\n",
        "plt.legend()\n",
        "\n",
        "#plt.plot(x,y1)\n",
        "#plt.plot(x,y2)\n",
        "#plt.plot(x,y3)\n",
        "#plt.plot(x,y4)\n",
        "plt.show()\n",
        "\n",
        "\n",
        "\n",
        "#nt5=np.array(df.iloc[2,2:31:3]) \n",
        "#pnt5=np.mean(df)\n",
        "#print(nt5)\n",
        "#print(df.mean([2,2:31:3])\n",
        "\n"
      ],
      "execution_count": null,
      "outputs": []
    },
    {
      "cell_type": "code",
      "metadata": {
        "id": "TDFZANpcbkTq"
      },
      "source": [
        ""
      ],
      "execution_count": null,
      "outputs": []
    }
  ]
}