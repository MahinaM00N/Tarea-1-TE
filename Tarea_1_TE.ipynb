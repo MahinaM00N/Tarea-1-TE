{
  "nbformat": 4,
  "nbformat_minor": 0,
  "metadata": {
    "colab": {
      "name": "Tarea 1 TE.ipynb",
      "private_outputs": true,
      "provenance": [],
      "collapsed_sections": [],
      "include_colab_link": true
    },
    "kernelspec": {
      "name": "python3",
      "display_name": "Python 3"
    },
    "language_info": {
      "name": "python"
    }
  },
  "cells": [
    {
      "cell_type": "markdown",
      "metadata": {
        "id": "view-in-github",
        "colab_type": "text"
      },
      "source": [
        "<a href=\"https://colab.research.google.com/github/MahinaM00N/Tarea-1-TE/blob/main/Tarea_1_TE.ipynb\" target=\"_parent\"><img src=\"https://colab.research.google.com/assets/colab-badge.svg\" alt=\"Open In Colab\"/></a>"
      ]
    },
    {
      "cell_type": "code",
      "metadata": {
        "id": "_XIIAYPy1-HG"
      },
      "source": [
        "import numpy as np\n",
        "import matplotlib.pyplot as plt"
      ],
      "execution_count": null,
      "outputs": []
    },
    {
      "cell_type": "code",
      "metadata": {
        "id": "9oX1oYEzsg8W"
      },
      "source": [
        "import pandas as pd\n",
        "# Importación del fichero datos.csv\n",
        "df = pd.read_csv('datos.csv', sep=';', decimal=',')"
      ],
      "execution_count": null,
      "outputs": []
    },
    {
      "cell_type": "code",
      "metadata": {
        "id": "hqa5Jg6hj_fh"
      },
      "source": [
        "df.head(39)"
      ],
      "execution_count": null,
      "outputs": []
    },
    {
      "cell_type": "code",
      "metadata": {
        "id": "TpfEzdZVaP9V"
      },
      "source": [
        "arr = df.to_numpy()\n",
        "#[[t], [n], [cm], [t_err], [n_err], [cm_err]]\n",
        "DATA = [[arr[2:9, 32], arr[2:9, 35], arr[2:9, 39], arr[2:9, 34], arr[2:9, 37], arr[2:9, 41], 50*np.ones(7)], #n=50\n",
        "        [arr[12:19, 32], arr[12:19, 35], arr[12:19, 39], arr[12:19, 34], arr[12:19, 37], arr[12:19, 41], 100*np.ones(7)], #n=100\n",
        "        [arr[22:29, 32], arr[22:29, 35], arr[22:29, 39], arr[22:29, 34], arr[22:29, 37], arr[22:29, 41], 150*np.ones(7)], #n=150\n",
        "        [arr[32:39, 32], arr[32:39, 35], arr[32:39, 39], arr[32:39, 34], arr[32:39, 37], arr[32:39, 41], 200*np.ones(7)]] #n=200\n",
        "DATA_np = np.array(DATA)\n",
        "DATA_float = np.zeros(DATA_np.shape)\n",
        "for i in range(len(DATA_np[:, 0, 0])):\n",
        "  for j in range(len(DATA_np[0, :, 0])):\n",
        "    for k in range(len(DATA_np[0, 0, :])):\n",
        "      if isinstance(DATA_np[i, j, k], str) == True:\n",
        "        x = DATA_np[i, j, k].replace(\",\", \".\")\n",
        "      else:\n",
        "        x = DATA_np[i, j, k]\n",
        "      DATA_float[i, j, k] = float(x)\n",
        "\n",
        "plt.scatter(DATA_float[0,0,:], DATA_float[0,1,:], color='r')\n",
        "plt.grid(color='b', linestyle='--', linewidth=0.2)\n",
        "plt.errorbar(DATA_float[0,0,:], DATA_float[0,1,:], yerr=DATA_float[0,4,:], xerr=DATA_float[0,3,:], fmt=\"o\", color='r')\n",
        "plt.errorbar(DATA_float[1,0,:], DATA_float[1,1,:], yerr=DATA_float[1,4,:], xerr=DATA_float[1,3,:], fmt=\"o\", color='b')\n",
        "plt.errorbar(DATA_float[2,0,:], DATA_float[2,1,:], yerr=DATA_float[2,4,:], xerr=DATA_float[2,3,:], fmt=\"o\", color='c')\n",
        "plt.errorbar(DATA_float[3,0,:], DATA_float[3,1,:], yerr=DATA_float[1,4,:], xerr=DATA_float[1,3,:], fmt=\"o\", color='g')\n",
        "plt.xlim([0, 110])\n",
        "plt.ylim([0, 125])\n",
        "plt.xticks([5,10,20,30,50,80,100])\n",
        "plt.xlabel('tiempo $s$')\n",
        "plt.ylabel('Promedio de nº de partículas')\n",
        "plt.show()\n",
        "\n",
        "plt.scatter(DATA_float[0,0,:], DATA_float[0,2,:], color='r')\n",
        "plt.grid(color='b', linestyle='--', linewidth=0.2)\n",
        "plt.errorbar(DATA_float[0,0,:], DATA_float[0,2,:], yerr=DATA_float[0,5,:], xerr=DATA_float[0,3,:], fmt=\"o\", color='r')\n",
        "plt.errorbar(DATA_float[1,0,:], DATA_float[1,2,:], yerr=DATA_float[1,5,:], xerr=DATA_float[1,3,:], fmt=\"o\", color='b')\n",
        "plt.errorbar(DATA_float[2,0,:], DATA_float[2,2,:], yerr=DATA_float[2,5,:], xerr=DATA_float[2,3,:], fmt=\"o\", color='c')\n",
        "plt.errorbar(DATA_float[3,0,:], DATA_float[3,2,:], yerr=DATA_float[1,5,:], xerr=DATA_float[1,3,:], fmt=\"o\", color='g')\n",
        "plt.xlim([0, 110])\n",
        "plt.ylim([0, 10])\n",
        "plt.xticks([5,10,20,30,50,80,100])\n",
        "plt.xlabel('Tiempo $s$')\n",
        "plt.ylabel('Promedio del centro de masa')\n",
        "plt.show()\n",
        "\n",
        "plt.scatter(DATA_float[:,6,0], DATA_float[:,1,0], color='r')\n",
        "plt.grid(color='b', linestyle='--', linewidth=0.2)\n",
        "plt.errorbar(DATA_float[:,6,0], DATA_float[:,1,0], yerr=DATA_float[:,4,0], xerr=None, fmt=\"o\", color='r')\n",
        "plt.errorbar(DATA_float[:,6,1], DATA_float[:,1,1], yerr=DATA_float[:,4,1], xerr=None, fmt=\"o\", color='b')\n",
        "plt.errorbar(DATA_float[:,6,2], DATA_float[:,1,2], yerr=DATA_float[:,4,2], xerr=None, fmt=\"o\", color='c')\n",
        "plt.errorbar(DATA_float[:,6,3], DATA_float[:,1,3], yerr=DATA_float[:,4,3], xerr=None, fmt=\"o\", color='g')\n",
        "plt.xlim([0, 210])\n",
        "plt.ylim([0, 120])\n",
        "plt.xticks([50,100,150,200])\n",
        "plt.xlabel('Nº de partículas inicial')\n",
        "plt.ylabel('Promedio del nº de partículas')\n",
        "plt.show()\n"
      ],
      "execution_count": null,
      "outputs": []
    },
    {
      "cell_type": "code",
      "metadata": {
        "id": "y0Gz2u4HS9qo"
      },
      "source": [
        "promt_50=DATA_float[0,0,:]\n",
        "promn_50=DATA_float[0,1,:]\n"
      ],
      "execution_count": null,
      "outputs": []
    },
    {
      "cell_type": "code",
      "metadata": {
        "id": "TDFZANpcbkTq"
      },
      "source": [
        ""
      ],
      "execution_count": null,
      "outputs": []
    }
  ]
}