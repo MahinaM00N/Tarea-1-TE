{
 "cells": [
  {
   "cell_type": "markdown",
   "metadata": {},
   "source": [
    "Escriba un código que calcule integrales triples usando una cuadratura gaussiana, y úselo para calcular en coordenadas cartesianas la carga total al interior de una esfera con densidad  𝜌=𝑟  con  𝑟≤1 . Compare su resultado con el valor exacto."
   ]
  },
  {
   "cell_type": "code",
   "execution_count": 11,
   "metadata": {},
   "outputs": [],
   "source": [
    "import numpy as np\n",
    "import matplotlib.pyplot as plt"
   ]
  },
  {
   "cell_type": "markdown",
   "metadata": {},
   "source": [
    "La integral triple tiene la siguiente forma con sus límites correspondientes,\n",
    "\n",
    "$$\n",
    "I= \\int_a^b dx\\,\\int_c^d dy\\, \\int_e^f dz \\, f(x,y,z) \n",
    "$$"
   ]
  },
  {
   "cell_type": "code",
   "execution_count": 80,
   "metadata": {},
   "outputs": [],
   "source": [
    "def gauss_quad(F, a, b, c, d, e, f):\n",
    "    \n",
    "    cg = [0.1012285362903706, 0.2223810344533744, 0.3137066458778874, 0.3626837833783621, 0.3626837833783621,0.3137066458778874, 0.2223810344533744, 0.1012285362903706]\n",
    "    rg = [-0.9602898564975363, -0.7966664774136267, -0.5255324099163290, -0.1834346424956498,0.1834346424956498, 0.5255324099163290, 0.7966664774136267, 0.9602898564975363]\n",
    "    \n",
    "    h1 = (b - a)/2\n",
    "    h2 = (a + b)/2\n",
    "    I = 0\n",
    "\n",
    "    for i in range(8):\n",
    "        \n",
    "        IX=0\n",
    "        x = h1*rg[i] + h2\n",
    "        \n",
    "        k1 = (d - c)/2;\n",
    "        k2 = (d + c)/2;\n",
    "        \n",
    "        for j in range(8):\n",
    "            IY=0;\n",
    "            y=k1*rg[i]+k2;\n",
    "            \n",
    "            l1=(f-e)/2;\n",
    "            l2=(f+e)/2;\n",
    "            \n",
    "            for k in range(8):\n",
    "                z=l1*rg[i]+l2;\n",
    "                IY=IY+cg[k]*F(x,y,z)\n",
    "                \n",
    "            IX=IX+cg[j]*l1*IY\n",
    "    \n",
    "        I=I+cg[i]*k1*IX\n",
    "\n",
    "    I=h1*I\n",
    "\n",
    "    return I"
   ]
  },
  {
   "cell_type": "code",
   "execution_count": 83,
   "metadata": {},
   "outputs": [],
   "source": [
    "#funcion de prueba, al aplicar gauss_quad deberia dar 1\n",
    "def F(x,y,z):\n",
    "    return 1\n"
   ]
  },
  {
   "cell_type": "code",
   "execution_count": 84,
   "metadata": {},
   "outputs": [
    {
     "data": {
      "text/plain": [
       "0.24999999999999462"
      ]
     },
     "execution_count": 84,
     "metadata": {},
     "output_type": "execute_result"
    }
   ],
   "source": [
    "gauss_quad(F,0,1,0,1,0,1)"
   ]
  },
  {
   "cell_type": "code",
   "execution_count": 85,
   "metadata": {},
   "outputs": [],
   "source": [
    "#funcion de prueba 2, para comparar con lo del compañero, deberia dar 1/8\n",
    "def F2(x,y,z):\n",
    "    return x*y*z"
   ]
  },
  {
   "cell_type": "code",
   "execution_count": 86,
   "metadata": {},
   "outputs": [
    {
     "data": {
      "text/plain": [
       "0.24999999999999462"
      ]
     },
     "execution_count": 86,
     "metadata": {},
     "output_type": "execute_result"
    }
   ],
   "source": [
    "gauss_quad(F2,0,1,0,1,0,1)"
   ]
  },
  {
   "cell_type": "code",
   "execution_count": null,
   "metadata": {},
   "outputs": [],
   "source": []
  }
 ],
 "metadata": {
  "kernelspec": {
   "display_name": "Python 3",
   "language": "python",
   "name": "python3"
  },
  "language_info": {
   "codemirror_mode": {
    "name": "ipython",
    "version": 3
   },
   "file_extension": ".py",
   "mimetype": "text/x-python",
   "name": "python",
   "nbconvert_exporter": "python",
   "pygments_lexer": "ipython3",
   "version": "3.8.3"
  }
 },
 "nbformat": 4,
 "nbformat_minor": 4
}
