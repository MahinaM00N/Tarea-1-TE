{
  "nbformat": 4,
  "nbformat_minor": 0,
  "metadata": {
    "colab": {
      "name": "Tarea 8.2 Métodos Numéricos y Probabilidades.ipynb",
      "provenance": [],
      "collapsed_sections": [],
      "authorship_tag": "ABX9TyNKc0w/NR2qGG5+dXx1BOaa",
      "include_colab_link": true
    },
    "kernelspec": {
      "name": "python3",
      "display_name": "Python 3"
    },
    "language_info": {
      "name": "python"
    }
  },
  "cells": [
    {
      "cell_type": "markdown",
      "metadata": {
        "id": "view-in-github",
        "colab_type": "text"
      },
      "source": [
        "<a href=\"https://colab.research.google.com/github/MahinaM00N/Tarea-1-TE/blob/main/Tarea_8_2_M%C3%A9todos_Num%C3%A9ricos_y_Probabilidades.ipynb\" target=\"_parent\"><img src=\"https://colab.research.google.com/assets/colab-badge.svg\" alt=\"Open In Colab\"/></a>"
      ]
    },
    {
      "cell_type": "markdown",
      "metadata": {
        "id": "qRILnkZjgKAV"
      },
      "source": [
        "#Tarea 8.2\n",
        "Mahina Montoya Zavala |Métodos numéricos y probabilidades"
      ]
    },
    {
      "cell_type": "markdown",
      "metadata": {
        "id": "E5qJ0sxKfmnT"
      },
      "source": [
        "Escriba un código similar a la interpolación lineal de la clase, pero que realice una interpolación cuadrática. Es decir, este código interpola usando una parábola para cada trío de puntos. Grafique sus resultados para el mismo ejemplo usado en la interpolación lineal."
      ]
    },
    {
      "cell_type": "code",
      "metadata": {
        "id": "uswJVOAmf48y"
      },
      "source": [
        "import numpy as np\n",
        "import matplotlib.pyplot as plt"
      ],
      "execution_count": 1,
      "outputs": []
    },
    {
      "cell_type": "markdown",
      "source": [
        "Tal como vimos en la clase 15, buscamos los puntos a interpolar."
      ],
      "metadata": {
        "id": "f13bCHTS1nAG"
      }
    },
    {
      "cell_type": "code",
      "source": [
        "def find_ind(x, puntos):\n",
        "    for i in range(len(puntos)):\n",
        "        if x < puntos[i,0] and i != 0:\n",
        "            return i-1"
      ],
      "metadata": {
        "id": "RRpMh8ic1u0d"
      },
      "execution_count": 2,
      "outputs": []
    },
    {
      "cell_type": "markdown",
      "source": [
        "A partir de la función \"lin_interp\" para una interpolación lineal de la clase 15, y siguiendo la idea de como se formula esta interpolación basada en los polinomios de Legendre,\n",
        "\n",
        "$$\n",
        "L_{n,i}(x) = \\prod_{j = 0, j \\neq i}^n \\frac{(x - x_j)}{(x_MMi - x_j)}\n",
        "$$\n",
        "\n",
        "desarrollamos \"cub_interp\", haciendo referencia a la interpolación cúbica, donde un $n=2$ interpola dos puntos linealmente, tomaremos 3 puntos, esto es $n=3$.\n"
      ],
      "metadata": {
        "id": "gb5G6n4E1_Ne"
      }
    },
    {
      "cell_type": "code",
      "source": [
        "def cub_interp(x,puntos):\n",
        "    \n",
        "    if x >= puntos[len(puntos)-1,0]:\n",
        "        return puntos[len(puntos)-1,1]\n",
        "    elif x <= puntos[0,0]:\n",
        "        return puntos[0,1]\n",
        "    \n",
        "    i = find_ind(x, puntos)\n",
        "    \n",
        "    L0=puntos[i-1][1]*(x-puntos[i][0])/(puntos[i-1][0] - puntos[i][0])    #agregamos este producto a los polinomios de Legendre, distinto a los vistos en clase   \n",
        "    L1=puntos[i][1]*((x-puntos[i+1][0])/(puntos[i][0]-puntos[i+1][0]))*(x-puntos[i-1][0])/(puntos[i][0]-puntos[i-1][0])\n",
        "    L2=puntos[i+1][1]*((x-puntos[i-1][0])/(puntos[i+1][0]-puntos[i-1][0]))*(x-puntos[i][0])/(puntos[i+1][0]-puntos[i][0])\n",
        "    \n",
        "    return L0 + L1 + L2"
      ],
      "metadata": {
        "id": "rzQQ2DVSutc2"
      },
      "execution_count": null,
      "outputs": []
    },
    {
      "cell_type": "code",
      "source": [
        "mini = 0.1\n",
        "maxi = 20\n",
        "order = 9\n",
        "\n",
        "xp = np.linspace(mini, maxi, order)\n",
        "puntos = np.array([[xi, np.sin(xi)/xi] for xi in xp])\n",
        "\n",
        "x = np.linspace(mini, maxi, 100)\n",
        "exact = np.sin(x)/x\n",
        "lin = [cub_interp(xi, puntos) for xi in x]\n",
        "\n",
        "plt.scatter(puntos[:,0], puntos[:,1], color='red')\n",
        "plt.plot(x, exact)\n",
        "plt.plot(x, lin)"
      ],
      "metadata": {
        "id": "yR0qGVeJuz2m"
      },
      "execution_count": null,
      "outputs": []
    }
  ]
}